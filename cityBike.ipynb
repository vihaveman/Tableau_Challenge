{
 "cells": [
  {
   "cell_type": "code",
   "execution_count": null,
   "id": "fc1ba7af",
   "metadata": {},
   "outputs": [],
   "source": [
    "import pandas as pd"
   ]
  },
  {
   "cell_type": "code",
   "execution_count": null,
   "id": "3434ef63",
   "metadata": {
    "scrolled": true
   },
   "outputs": [],
   "source": [
    "# Combining 2018 files \n",
    "bikes2018 = ('rawData/201801.csv', 'rawData/201802.csv', 'rawData/201803.csv', 'rawData/201804.csv', 'rawData/201805.csv', 'rawData/201806.csv', 'rawData/201807.csv', 'rawData/201808.csv', 'rawData/201809.csv', 'rawData/201810.csv', 'rawData/201811.csv', 'rawData/201812.csv')\n",
    "\n",
    "# Craeating an empty list to store dataframe\n",
    "bikes2018_list = []\n",
    "\n",
    "#Looping throiugh files and store into data frame\n",
    "for file in bikes2018:\n",
    "    bikes2018 = pd.read_csv(file)\n",
    "    bikes2018_list.append(bikes2018)\n",
    "\n",
    "bikes2018_df = pd.concat(bikes2018_list)\n",
    "\n",
    "bikes2018_df\n"
   ]
  },
  {
   "cell_type": "code",
   "execution_count": null,
   "id": "ddca9d4d",
   "metadata": {},
   "outputs": [],
   "source": [
    "# Combining 2010 files \n",
    "bikes2019 = ('rawData/201901.csv', 'rawData/201902.csv', 'rawData/201903.csv', 'rawData/201904.csv', 'rawData/201905.csv', 'rawData/201906.csv', 'rawData/201907.csv', 'rawData/201908.csv', 'rawData/201909.csv', 'rawData/201910.csv', 'rawData/201911.csv', 'rawData/201912.csv')\n",
    "\n",
    "# Craeating an empty list to store dataframe\n",
    "bikes2019_list = []\n",
    "\n",
    "#Looping throiugh files and store into data frame\n",
    "for file in bikes2019:\n",
    "    bikes2019 = pd.read_csv(file)\n",
    "    bikes2019_list.append(bikes2019)\n",
    "\n",
    "bikes2019_df = pd.concat(bikes2019_list)\n",
    "\n",
    "bikes2019_df"
   ]
  },
  {
   "cell_type": "code",
   "execution_count": null,
   "id": "8441a483",
   "metadata": {},
   "outputs": [],
   "source": [
    "# Combining 2010 files \n",
    "bikes2020 = ('rawData/202001.csv', 'rawData/202002.csv', 'rawData/202003.csv', 'rawData/202004.csv', 'rawData/202005.csv', 'rawData/202006.csv', 'rawData/202007.csv', 'rawData/202008.csv', 'rawData/202009.csv', 'rawData/202010.csv', 'rawData/202011.csv', 'rawData/202012.csv')\n",
    "\n",
    "# Craeating an empty list to store dataframe\n",
    "bikes2020_list = []\n",
    "\n",
    "#Looping throiugh files and store into data frame\n",
    "for file in bikes2020:\n",
    "    bikes2020 = pd.read_csv(file)\n",
    "    bikes2020_list.append(bikes2020)\n",
    "\n",
    "bikes2020_df = pd.concat(bikes2020_list)\n",
    "\n",
    "bikes2020_df"
   ]
  },
  {
   "cell_type": "code",
   "execution_count": null,
   "id": "0fb40041",
   "metadata": {},
   "outputs": [],
   "source": [
    "#Combining the three years of data into one Dataframe\n",
    "\n",
    "combinedCityBikes_df = pd.concat([bikes2018_df, bikes2019_df, bikes2020_df], axis =0)\n",
    "\n",
    "combinedCityBikes_df"
   ]
  },
  {
   "cell_type": "code",
   "execution_count": null,
   "id": "82f0f1eb",
   "metadata": {},
   "outputs": [],
   "source": [
    "# Changing gender values to numerical values\n",
    "\n",
    "mapping = {0: 'Unknown', 1: 'Male', 2: 'Female'}\n",
    "\n",
    "# Use .loc to assign the mapped values to 'gender' column\n",
    "combinedCityBikes_df['gender'] = combinedCityBikes_df['gender'].map(mapping)\n",
    "\n",
    "cityBikes_df = combinedCityBikes_df\n",
    "\n",
    "cityBikes_df\n"
   ]
  },
  {
   "cell_type": "code",
   "execution_count": null,
   "id": "4bc662cf",
   "metadata": {},
   "outputs": [],
   "source": [
    "# Save cleaned data into a csv file \n",
    "\n",
    "\n",
    "cityBikes_df.to_csv('cleanedData/citybike.csv', index=False)"
   ]
  },
  {
   "cell_type": "code",
   "execution_count": null,
   "id": "678a911f",
   "metadata": {},
   "outputs": [],
   "source": []
  },
  {
   "cell_type": "code",
   "execution_count": null,
   "id": "b1a88537",
   "metadata": {},
   "outputs": [],
   "source": []
  }
 ],
 "metadata": {
  "kernelspec": {
   "display_name": "Python 3 (ipykernel)",
   "language": "python",
   "name": "python3"
  },
  "language_info": {
   "codemirror_mode": {
    "name": "ipython",
    "version": 3
   },
   "file_extension": ".py",
   "mimetype": "text/x-python",
   "name": "python",
   "nbconvert_exporter": "python",
   "pygments_lexer": "ipython3",
   "version": "3.9.13"
  }
 },
 "nbformat": 4,
 "nbformat_minor": 5
}
